{
  "nbformat": 4,
  "nbformat_minor": 0,
  "metadata": {
    "colab": {
      "provenance": []
    },
    "kernelspec": {
      "name": "python3",
      "display_name": "Python 3"
    },
    "language_info": {
      "name": "python"
    }
  },
  "cells": [
    {
      "cell_type": "markdown",
      "source": [
        "**TASK 1**"
      ],
      "metadata": {
        "id": "dvX95Ir6aOzd"
      }
    },
    {
      "cell_type": "code",
      "source": [
        "class MinHeap:\n",
        "    def __init__(self, capacity):\n",
        "        self.__capacity = capacity\n",
        "        self.__heap = [0] * capacity\n",
        "        self.__size = 0\n",
        "\n",
        "    def insert(self, value):\n",
        "        if self.__size >= self.__capacity:\n",
        "            raise OverflowError(\"Heap is at full capacity\")\n",
        "\n",
        "        self.__heap[self.__size] = value\n",
        "        self.__size += 1\n",
        "        self.__swim(self.__size - 1)\n",
        "\n",
        "    def __swim(self, index):\n",
        "        while index > 0:\n",
        "            parent = (index - 1) // 2\n",
        "            if self.__heap[index] < self.__heap[parent]:\n",
        "                self.__heap[index], self.__heap[parent] = self.__heap[parent], self.__heap[index]\n",
        "                index = parent\n",
        "            else:\n",
        "                break\n",
        "\n",
        "    def extractMin(self):\n",
        "        if self.__size <= 0:\n",
        "            raise IndexError(\"Heap is empty\")\n",
        "\n",
        "        min_value = self.__heap[0]\n",
        "        self.__heap[0] = self.__heap[self.__size - 1]\n",
        "        self.__size -= 1\n",
        "        self.__sink(0)\n",
        "        return min_value\n",
        "\n",
        "    def __sink(self, index):\n",
        "        while 2 * index + 1 < self.__size:\n",
        "            left_child = 2 * index + 1\n",
        "            right_child = 2 * index + 2\n",
        "            smallest = left_child\n",
        "\n",
        "            if right_child < self.__size and self.__heap[right_child] < self.__heap[left_child]:\n",
        "                smallest = right_child\n",
        "\n",
        "            if self.__heap[index] > self.__heap[smallest]:\n",
        "                self.__heap[index], self.__heap[smallest] = self.__heap[smallest], self.__heap[index]\n",
        "                index = smallest\n",
        "            else:\n",
        "                break\n",
        "\n",
        "    def sort(self):\n",
        "        original_size = self.__size\n",
        "        sorted_array = []\n",
        "\n",
        "        while self.__size > 0:\n",
        "            sorted_array.append(self.extractMin())\n",
        "\n",
        "        self.__heap[:original_size] = sorted_array\n",
        "        self.__size = original_size\n",
        "\n",
        "        return sorted_array\n",
        "\n",
        "\n",
        "heap = MinHeap(10)\n",
        "heap.insert(5)\n",
        "heap.insert(3)\n",
        "heap.insert(8)\n",
        "heap.insert(1)\n",
        "\n",
        "print(\"Sorted array:\", heap.sort())\n"
      ],
      "metadata": {
        "colab": {
          "base_uri": "https://localhost:8080/"
        },
        "id": "o_rf8imYD-uQ",
        "outputId": "2def802d-c429-4c66-c934-7a789b238477"
      },
      "execution_count": 75,
      "outputs": [
        {
          "output_type": "stream",
          "name": "stdout",
          "text": [
            "Sorted array: [1, 3, 5, 8]\n"
          ]
        }
      ]
    },
    {
      "cell_type": "markdown",
      "source": [
        "**TASK 2**"
      ],
      "metadata": {
        "id": "8WywUiJaFCHf"
      }
    },
    {
      "cell_type": "code",
      "source": [
        "class MaxHeap:\n",
        "    def __init__(self, capacity):\n",
        "        self.__capacity = capacity\n",
        "        self.__heap = [0] * capacity\n",
        "        self.__size = 0\n",
        "\n",
        "    def insert(self, value):\n",
        "        if self.__size >= self.__capacity:\n",
        "            raise OverflowError(\"Heap is at full capacity\")\n",
        "\n",
        "        self.__heap[self.__size] = value\n",
        "        self.__size += 1\n",
        "        self.__sink(self.__size - 1)\n",
        "\n",
        "    def __sink(self, index):\n",
        "        while index > 0:\n",
        "            parent = (index - 1) // 2\n",
        "            if self.__heap[index] > self.__heap[parent]:\n",
        "                self.__heap[index], self.__heap[parent] = self.__heap[parent], self.__heap[index]\n",
        "                index = parent\n",
        "            else:\n",
        "                break\n",
        "\n",
        "    def extractMax(self):\n",
        "        if self.__size <= 0:\n",
        "            raise IndexError(\"Heap is empty\")\n",
        "\n",
        "        max_value = self.__heap[0]\n",
        "        self.__heap[0] = self.__heap[self.__size - 1]\n",
        "        self.__size -= 1\n",
        "        self.__swim(0)\n",
        "        return max_value\n",
        "\n",
        "    def __swim(self, index):\n",
        "        while 2 * index + 1 < self.__size:\n",
        "            left_child = 2 * index + 1\n",
        "            right_child = 2 * index + 2\n",
        "            largest = left_child\n",
        "\n",
        "            if right_child < self.__size and self.__heap[right_child] > self.__heap[left_child]:\n",
        "                largest = right_child\n",
        "\n",
        "            if self.__heap[index] < self.__heap[largest]:\n",
        "                self.__heap[index], self.__heap[largest] = self.__heap[largest], self.__heap[index]\n",
        "                index = largest\n",
        "            else:\n",
        "                break\n",
        "\n",
        "    def sort(self):\n",
        "        original_size = self.__size\n",
        "        sorted_array = []\n",
        "\n",
        "        while self.__size > 0:\n",
        "            sorted_array.append(self.extractMax())\n",
        "\n",
        "        self.__heap[:original_size] = sorted_array[::-1]  # Restore the sorted array in ascending order\n",
        "        self.__size = original_size\n",
        "\n",
        "        return sorted_array\n",
        "\n",
        "\n",
        "\n",
        "heap = MaxHeap(10)\n",
        "heap.insert(5)\n",
        "heap.insert(3)\n",
        "heap.insert(8)\n",
        "heap.insert(1)\n",
        "\n",
        "print(\"Sorted array:\", heap.sort())"
      ],
      "metadata": {
        "colab": {
          "base_uri": "https://localhost:8080/"
        },
        "id": "2M42TAxuFG7g",
        "outputId": "0d876836-62bf-431b-8cce-90218474e4c6"
      },
      "execution_count": 85,
      "outputs": [
        {
          "output_type": "stream",
          "name": "stdout",
          "text": [
            "Sorted array: [8, 5, 3, 1]\n"
          ]
        }
      ]
    },
    {
      "cell_type": "markdown",
      "source": [
        "**TASK 3**"
      ],
      "metadata": {
        "id": "HCU--yo2FHlI"
      }
    },
    {
      "cell_type": "code",
      "source": [
        "def distribute_tasks(tasks, m):\n",
        "    heap = MinHeap(m)\n",
        "    for i in range(m):\n",
        "        heap.insert(0)\n",
        "    for task in tasks:\n",
        "        min_load = heap.extractMin()\n",
        "        heap.insert(min_load + task)\n",
        "\n",
        "    return heap.sort()\n",
        "\n",
        "tasks = [2, 4, 7, 1, 6]\n",
        "m = 4\n",
        "\n",
        "output = distribute_tasks(tasks, m)\n",
        "print(\"Task distribution output:\", output)"
      ],
      "metadata": {
        "colab": {
          "base_uri": "https://localhost:8080/"
        },
        "id": "7v82tAw6E6xg",
        "outputId": "33761665-4f87-4d37-e8b5-d875b91b38b4"
      },
      "execution_count": 84,
      "outputs": [
        {
          "output_type": "stream",
          "name": "stdout",
          "text": [
            "Task distribution output: [2, 4, 7, 7]\n"
          ]
        }
      ]
    },
    {
      "cell_type": "markdown",
      "source": [
        "**TASK 4**"
      ],
      "metadata": {
        "id": "oCJhLwbjGh6p"
      }
    },
    {
      "cell_type": "code",
      "source": [
        "def find_top(nums, k):\n",
        "    n = len(nums)\n",
        "    max_heap = MaxHeap(n)\n",
        "    for num in nums:\n",
        "        max_heap.insert(num)\n",
        "    result = []\n",
        "    for _ in range(k):\n",
        "        result.append(max_heap.extractMax())\n",
        "\n",
        "    return result\n",
        "nums = [4, 10, 2, 8, 6, 7]\n",
        "k = 3\n",
        "print(find_top(nums, k))\n",
        "\n"
      ],
      "metadata": {
        "colab": {
          "base_uri": "https://localhost:8080/"
        },
        "id": "OJPysFnWGkQ4",
        "outputId": "9acd9d45-eac9-4baf-c87d-9abe5ba4c994"
      },
      "execution_count": 89,
      "outputs": [
        {
          "output_type": "stream",
          "name": "stdout",
          "text": [
            "[10, 8, 7]\n"
          ]
        }
      ]
    }
  ]
}