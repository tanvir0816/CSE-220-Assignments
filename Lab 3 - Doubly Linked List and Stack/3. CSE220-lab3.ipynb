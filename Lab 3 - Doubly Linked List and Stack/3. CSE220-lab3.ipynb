{
  "nbformat": 4,
  "nbformat_minor": 0,
  "metadata": {
    "colab": {
      "provenance": []
    },
    "kernelspec": {
      "name": "python3",
      "display_name": "Python 3"
    },
    "language_info": {
      "name": "python"
    }
  },
  "cells": [
    {
      "cell_type": "code",
      "execution_count": 6,
      "metadata": {
        "id": "Pp1R95Pe7ID2",
        "colab": {
          "base_uri": "https://localhost:8080/"
        },
        "outputId": "26b1505d-4c8d-4d72-9869-c05cc50faa42"
      },
      "outputs": [
        {
          "output_type": "stream",
          "name": "stdout",
          "text": [
            "Collecting fhm-unittest\n",
            "  Downloading fhm_unittest-1.0.1-py3-none-any.whl.metadata (1.9 kB)\n",
            "Downloading fhm_unittest-1.0.1-py3-none-any.whl (2.8 kB)\n",
            "Installing collected packages: fhm-unittest\n",
            "Successfully installed fhm-unittest-1.0.1\n",
            "Collecting fuzzywuzzy\n",
            "  Downloading fuzzywuzzy-0.18.0-py2.py3-none-any.whl.metadata (4.9 kB)\n",
            "Downloading fuzzywuzzy-0.18.0-py2.py3-none-any.whl (18 kB)\n",
            "Installing collected packages: fuzzywuzzy\n",
            "Successfully installed fuzzywuzzy-0.18.0\n"
          ]
        },
        {
          "output_type": "stream",
          "name": "stderr",
          "text": [
            "/usr/local/lib/python3.10/dist-packages/fuzzywuzzy/fuzz.py:11: UserWarning: Using slow pure-python SequenceMatcher. Install python-Levenshtein to remove this warning\n",
            "  warnings.warn('Using slow pure-python SequenceMatcher. Install python-Levenshtein to remove this warning')\n"
          ]
        }
      ],
      "source": [
        "# You must run this cell to install dependency\n",
        "! pip3 install fhm-unittest\n",
        "! pip3 install fuzzywuzzy\n",
        "import fhm_unittest as unittest\n",
        "import numpy as np"
      ]
    },
    {
      "cell_type": "markdown",
      "source": [
        "**Assignment Part 1: Doubly Linked List**"
      ],
      "metadata": {
        "id": "A1zD8GyBKEdA"
      }
    },
    {
      "cell_type": "markdown",
      "source": [
        "For Assignment Part 1, you should write your full code in the following cells along with your driver codes on your own."
      ],
      "metadata": {
        "id": "z4q4a-vSNoII"
      }
    },
    {
      "cell_type": "code",
      "source": [
        "#Assignment Part 1\n",
        "\n",
        "class Patient:\n",
        "  #write a constructor\n",
        "  def __init__(self, id, name, age, bloodgroup, next, prev):\n",
        "    self.id = id\n",
        "    self.name = name\n",
        "    self.age = age\n",
        "    self.bloodgroup = bloodgroup\n",
        "    self.next = next\n",
        "    self.prev = prev"
      ],
      "metadata": {
        "id": "itoWpG7oNziA"
      },
      "execution_count": null,
      "outputs": []
    },
    {
      "cell_type": "code",
      "source": [
        "class WRM:\n",
        "    def __init__(self):\n",
        "        #Creating the dummy head\n",
        "        self.dh = Patient(None,None,None,None,None,None)\n",
        "        self.dh.next = self.dh\n",
        "        self.dh.prev = self.dh\n",
        "    def registerPatient(self,id, name, age, bloodgroup):\n",
        "        #To Do\n",
        "        self.id=id\n",
        "        self.name=name\n",
        "        self.age=age\n",
        "        self.bloodgroup=bloodgroup\n",
        "        if self.id!=\"\" and self.name!=\"\" and self.age!=\"\" and self.bloodgroup!=\"\":\n",
        "            Temp=Patient(self.id,self.name,self.age,self.bloodgroup,None,None)\n",
        "            temtai=self.dh.prev\n",
        "            Temp.prev=temtai\n",
        "            Temp.next=self.dh\n",
        "            self.dh.prev=Temp\n",
        "            temtai.next=Temp\n",
        "            return (\"=====>>> Patient registered successfully <<<=====\")\n",
        "        else:\n",
        "            return (\"=====>>> Patient registration failed, try again <<<=====\")\n",
        "    def servePatient(self):\n",
        "        #To Do\n",
        "        x=self.dh.next\n",
        "        self.dh.next=x.next\n",
        "        x.next.prev=self.dh\n",
        "        x.next=None\n",
        "        x.prev=None\n",
        "        return (\"=====>>> \",x.name+ \" surved successfully <<<=====\")\n",
        "    def showAllPatient(self):\n",
        "        #To Do\n",
        "        names=\"\"\n",
        "        Haha=self.dh.next\n",
        "        while Haha.name!=None:\n",
        "          #  if Haha.name is not None:\n",
        "            names+=Haha.name+\" \"\n",
        "            Haha=Haha.next\n",
        "        if names==\"\":\n",
        "            return (\"=====>>> Patient list empty <<<=====\")\n",
        "        else:\n",
        "            return (\"=====>>> Patient list: \",names,\" <<<=====\")\n",
        "    def canDoctorGoHome(self):\n",
        "        hehe=self.dh.next\n",
        "        if hehe!=self.dh:\n",
        "            return (\"=====>>> No,doctor can't go home. <<<=====\")\n",
        "        else:\n",
        "            return (\"=====>>> Yes,Doctor can go home. <<<=====\")\n",
        "    def cancelAll(self):\n",
        "        #To Do\n",
        "        self.dh.prev.next=None\n",
        "        tem=self.dh.next\n",
        "        while tem:\n",
        "            tem.prev=None\n",
        "            tem=tem.next\n",
        "        self.dh.next=None\n",
        "        self.dh.prev=None\n",
        "        return (\"=====>>> Successfully cancelled all appoinments <<<=====\")\n",
        "    def ReverseTheLine(self):\n",
        "        #To Do\n",
        "        if self.dh.next.name == None:\n",
        "            return (\"=====>>> Reverse Failed <<<=====\")\n",
        "        else:\n",
        "            curr = self.dh.next\n",
        "            while curr != self.dh:\n",
        "                temp = curr.next\n",
        "                curr.next = curr.prev\n",
        "                curr.prev = temp\n",
        "                curr = temp\n",
        "            temp = self.dh.next\n",
        "            self.dh.next = self.dh.prev\n",
        "            self.dh.prev = temp\n",
        "            return (\"=====>>> Successfully reversed <<<=====\")\n",
        "\n",
        "\n",
        "\n"
      ],
      "metadata": {
        "id": "dNx7zTJ1OZNv"
      },
      "execution_count": null,
      "outputs": []
    },
    {
      "cell_type": "code",
      "source": [
        "#Write a Tester Code in this cell\n",
        "print(\"**Welcome to Waiting Room Management System**\")\n",
        "x=WRM()\n",
        "print(\"===Choose an option===\")\n",
        "while x:\n",
        "    print(\" a. Register Patient\\n b. Serve Patient\\n c. Show All Patient\\n d. Can Doctor go Home?\\n e. Cancel all Appoinment\\n f. Reverse The Line\\n g. Exit\")\n",
        "    option=input(\"Enter your choice: \")\n",
        "    if option==\"a\":\n",
        "        print(x.registerPatient(input(\"Enter ID: \"),input(\"Enter Name: \"),input(\"Enter age: \"),input(\"Enter bloodgroup: \")))\n",
        "    elif option==\"b\":\n",
        "            print(x.servePatient())\n",
        "    elif option==\"c\":\n",
        "            print(x.showAllPatient())\n",
        "    elif option==\"d\":\n",
        "            print(x.canDoctorGoHome())\n",
        "    elif option==\"e\":\n",
        "        print(x.cancelAll())\n",
        "    elif option==\"f\":\n",
        "        print(x.ReverseTheLine())\n",
        "    elif option==\"g\":\n",
        "        print(\"Exited successfully\")\n",
        "        break\n",
        "    else:\n",
        "        print(\"wrong input\")"
      ],
      "metadata": {
        "id": "jKhbn1LAPfjr",
        "colab": {
          "base_uri": "https://localhost:8080/"
        },
        "outputId": "f7444c69-cabb-4f7f-a736-5f81f8e83b4f"
      },
      "execution_count": null,
      "outputs": [
        {
          "output_type": "stream",
          "name": "stdout",
          "text": [
            "**Welcome to Waiting Room Management System**\n",
            "===Choose an option===\n",
            " a. Register Patient\n",
            " b. Serve Patient\n",
            " c. Show All Patient\n",
            " d. Can Doctor go Home?\n",
            " e. Cancel all Appoinment\n",
            " f. Reverse The Line\n",
            " g. Exit\n",
            "Enter your choice: f\n",
            "=====>>> Reverse Failed <<<=====\n",
            " a. Register Patient\n",
            " b. Serve Patient\n",
            " c. Show All Patient\n",
            " d. Can Doctor go Home?\n",
            " e. Cancel all Appoinment\n",
            " f. Reverse The Line\n",
            " g. Exit\n",
            "Enter your choice: g\n",
            "Exited successfully\n"
          ]
        }
      ]
    },
    {
      "cell_type": "markdown",
      "source": [
        "**Assignment Part 2: Stack**\n",
        "\n",
        "Linked List based Stack is implemented in the following cell."
      ],
      "metadata": {
        "id": "CJWd_j6YEnPn"
      }
    },
    {
      "cell_type": "code",
      "source": [
        "class Node:\n",
        "  def __init__(self,elem=None,next=None):\n",
        "    self.elem = elem\n",
        "    self.next = next\n",
        "\n",
        "class Stack:\n",
        "  def __init__(self):\n",
        "    self.__top = None\n",
        "\n",
        "  def push(self,elem):\n",
        "    nn = Node(elem,self.__top)\n",
        "    self.__top = nn\n",
        "\n",
        "  def pop(self):\n",
        "    if self.__top == None:\n",
        "      #print('Stack Underflow')\n",
        "      return None\n",
        "    e = self.__top\n",
        "    self.__top = self.__top.next\n",
        "    return e.elem\n",
        "\n",
        "  def peek(self):\n",
        "    if self.__top == None:\n",
        "      #print('Stack Underflow')\n",
        "      return None\n",
        "    return self.__top.elem\n",
        "\n",
        "  def isEmpty(self):\n",
        "    return self.__top == None\n"
      ],
      "metadata": {
        "id": "KHLhs5x0D-O6"
      },
      "execution_count": 1,
      "outputs": []
    },
    {
      "cell_type": "code",
      "source": [
        "#You can run this driver code cell to understand the methods of Stack class\n",
        "st = Stack()\n",
        "st.push(4)\n",
        "st.push(3)\n",
        "st.push(5)\n",
        "st.push(1)\n",
        "st.push(9)\n",
        "\n",
        "print('Peeked Element: ',st.peek())\n",
        "print('Popped Element: ',st.pop())\n",
        "print('Popped Element: ',st.pop())\n",
        "print('Popped Element: ',st.pop())\n",
        "print('Peeked Element: ',st.peek())\n",
        "print('Popped Element: ',st.pop())\n",
        "print('Popped Element: ',st.pop())\n",
        "print('Peeked Element: ',st.peek())\n",
        "print('Popped Element: ',st.pop())\n",
        "print(st.isEmpty())"
      ],
      "metadata": {
        "id": "4XkuMA7gEjE7",
        "colab": {
          "base_uri": "https://localhost:8080/"
        },
        "outputId": "969e9fdc-db42-4616-839a-ad945a0f8096"
      },
      "execution_count": 2,
      "outputs": [
        {
          "output_type": "stream",
          "name": "stdout",
          "text": [
            "Peeked Element:  9\n",
            "Popped Element:  9\n",
            "Popped Element:  1\n",
            "Popped Element:  5\n",
            "Peeked Element:  3\n",
            "Popped Element:  3\n",
            "Popped Element:  4\n",
            "Peeked Element:  None\n",
            "Popped Element:  None\n",
            "True\n"
          ]
        }
      ]
    },
    {
      "cell_type": "markdown",
      "source": [
        "You can print your stack using this code segment"
      ],
      "metadata": {
        "id": "xrfONLccG9Gi"
      }
    },
    {
      "cell_type": "code",
      "source": [
        "def print_stack(st):\n",
        "  if st.isEmpty():\n",
        "    return\n",
        "  p = st.pop()\n",
        "  print(p)\n",
        "  print(\" \")\n",
        "  print_stack(st)\n",
        "  st.push(p)\n",
        "\n",
        "st = Stack()\n",
        "st.push(4)\n",
        "st.push(3)\n",
        "st.push(5)\n",
        "st.push(1)\n",
        "st.push(9)\n",
        "print_stack(st)\n",
        "print('------')"
      ],
      "metadata": {
        "id": "S-EembO_GsWA",
        "colab": {
          "base_uri": "https://localhost:8080/"
        },
        "outputId": "2a132fe5-5626-43a4-8ff3-ad3c49ccf638"
      },
      "execution_count": 3,
      "outputs": [
        {
          "output_type": "stream",
          "name": "stdout",
          "text": [
            "9\n",
            " \n",
            "1\n",
            " \n",
            "5\n",
            " \n",
            "3\n",
            " \n",
            "4\n",
            " \n",
            "------\n"
          ]
        }
      ]
    },
    {
      "cell_type": "markdown",
      "source": [
        "Task 1: Diamond Count"
      ],
      "metadata": {
        "id": "iNMnfqqpIga2"
      }
    },
    {
      "cell_type": "code",
      "source": [
        "def diamond_count(stack,string):\n",
        "    #TO DO\n",
        "    count=0\n",
        "    hehe=string\n",
        "    for i in hehe:\n",
        "        if i ==\"<\":\n",
        "            stack.push(i)\n",
        "        elif i==\">\":\n",
        "            if stack.peek()==\"<\":\n",
        "                stack.pop()\n",
        "                count+=1\n",
        "    return count\n",
        "\n",
        "\n",
        "\n",
        "\n",
        "print('Test 01')\n",
        "stack = Stack()\n",
        "string = '<..><.<..>> '\n",
        "\n",
        "returned_value = diamond_count(stack,string)\n",
        "print(f'Number of Diamonds: {returned_value}') #This should print 3\n",
        "unittest.output_test(returned_value, 3)\n",
        "print('-----------------------------------------')\n",
        "\n",
        "\n",
        "print('Test 02')\n",
        "stack = Stack()\n",
        "string = '<<<..<......<<<<....>'\n",
        "returned_value = diamond_count(stack,string)\n",
        "print(f'Number of Diamonds: {returned_value}') #This should print 1\n",
        "unittest.output_test(returned_value, 1)\n",
        "print('-----------------------------------------')\n",
        "\n",
        "\n",
        "print('Test 03')\n",
        "stack = Stack()\n",
        "string = '>>><...<<..>>...>...>>>'\n",
        "returned_value = diamond_count(stack,string)\n",
        "print(f'Number of Diamonds: {returned_value}') #This should print 3\n",
        "unittest.output_test(returned_value, 3)\n",
        "print('-----------------------------------------')"
      ],
      "metadata": {
        "id": "GnX70OIvG_gZ",
        "colab": {
          "base_uri": "https://localhost:8080/"
        },
        "outputId": "8847ffcb-211c-4fdf-d030-2e5b0355eef6"
      },
      "execution_count": 7,
      "outputs": [
        {
          "output_type": "stream",
          "name": "stdout",
          "text": [
            "Test 01\n",
            "Number of Diamonds: 3\n",
            "Accepted\n",
            "-----------------------------------------\n",
            "Test 02\n",
            "Number of Diamonds: 1\n",
            "Accepted\n",
            "-----------------------------------------\n",
            "Test 03\n",
            "Number of Diamonds: 3\n",
            "Accepted\n",
            "-----------------------------------------\n"
          ]
        }
      ]
    },
    {
      "cell_type": "markdown",
      "source": [
        "Task 2: Tower of Blocks"
      ],
      "metadata": {
        "id": "PhCF3SZ6IX5g"
      }
    },
    {
      "cell_type": "code",
      "source": [
        "def remove_block(stack, n):\n",
        "    #TO DO\n",
        "    tem_st=Stack()\n",
        "    for i in range(n):\n",
        "        x=stack.pop()\n",
        "        tem_st.push(x)\n",
        "    tem_st.pop()\n",
        "    while not tem_st.isEmpty():\n",
        "        a=tem_st.pop()\n",
        "        stack.push(a)\n",
        "\n",
        "\n",
        "\n",
        "\n",
        "print('Test 01')\n",
        "st = Stack()\n",
        "st.push(4)\n",
        "st.push(19)\n",
        "st.push(23)\n",
        "st.push(17)\n",
        "st.push(5)\n",
        "print('Stack:')\n",
        "print_stack(st)\n",
        "print('------')\n",
        "remove_block(st,2)\n",
        "print('After Removal')\n",
        "print_stack(st)\n",
        "print('------')\n",
        "\n",
        "print()\n",
        "print('======================================')\n",
        "print()\n",
        "\n",
        "print('Test 02')\n",
        "st = Stack()\n",
        "st.push(73)\n",
        "st.push(85)\n",
        "st.push(15)\n",
        "st.push(41)\n",
        "print('Stack:')\n",
        "print_stack(st)\n",
        "print('------')\n",
        "remove_block(st,3)\n",
        "print('After Removal')\n",
        "print_stack(st)\n",
        "print('------')\n",
        "\n",
        "print()\n",
        "print('======================================')\n",
        "print()"
      ],
      "metadata": {
        "id": "W3N4q7YAHExr",
        "colab": {
          "base_uri": "https://localhost:8080/"
        },
        "outputId": "49c3d6a0-f5ca-475c-eac5-c98ec945ff36"
      },
      "execution_count": 8,
      "outputs": [
        {
          "output_type": "stream",
          "name": "stdout",
          "text": [
            "Test 01\n",
            "Stack:\n",
            "5\n",
            " \n",
            "17\n",
            " \n",
            "23\n",
            " \n",
            "19\n",
            " \n",
            "4\n",
            " \n",
            "------\n",
            "After Removal\n",
            "5\n",
            " \n",
            "23\n",
            " \n",
            "19\n",
            " \n",
            "4\n",
            " \n",
            "------\n",
            "\n",
            "======================================\n",
            "\n",
            "Test 02\n",
            "Stack:\n",
            "41\n",
            " \n",
            "15\n",
            " \n",
            "85\n",
            " \n",
            "73\n",
            " \n",
            "------\n",
            "After Removal\n",
            "41\n",
            " \n",
            "15\n",
            " \n",
            "73\n",
            " \n",
            "------\n",
            "\n",
            "======================================\n",
            "\n"
          ]
        }
      ]
    },
    {
      "cell_type": "markdown",
      "source": [
        "Task 3: Stack Reverse"
      ],
      "metadata": {
        "id": "jcngRuqUWOfl"
      }
    },
    {
      "cell_type": "code",
      "source": [
        "def conditional_reverse(stack):\n",
        "  #To Do\n",
        "    new=Stack()\n",
        "    while not stack.isEmpty():\n",
        "        x=stack.pop()\n",
        "        if new.peek()!=x:\n",
        "            new.push(x)\n",
        "        else:\n",
        "            pass\n",
        "    return new\n",
        "\n",
        "\n",
        "\n",
        "print('Test 01')\n",
        "st=Stack()\n",
        "st.push(10)\n",
        "st.push(10)\n",
        "st.push(20)\n",
        "st.push(20)\n",
        "st.push(30)\n",
        "st.push(10)\n",
        "st.push(50)\n",
        "print('Stack:')\n",
        "print_stack(st)\n",
        "print('------')\n",
        "reversed_stack=conditional_reverse(st)\n",
        "print('Conditional Reversed Stack:')\n",
        "print_stack(reversed_stack) # This stack contains 50, 10, 30, 20, 10 in this order whereas top element should be 10\n",
        "print('------')"
      ],
      "metadata": {
        "id": "gLSgfDKPWPnP",
        "colab": {
          "base_uri": "https://localhost:8080/"
        },
        "outputId": "53cbaa68-c6a0-4dcc-d542-b39f9392629a"
      },
      "execution_count": null,
      "outputs": [
        {
          "output_type": "stream",
          "name": "stdout",
          "text": [
            "Test 01\n",
            "Stack:\n",
            "50\n",
            " \n",
            "10\n",
            " \n",
            "30\n",
            " \n",
            "20\n",
            " \n",
            "20\n",
            " \n",
            "10\n",
            " \n",
            "10\n",
            " \n",
            "------\n",
            "Conditional Reversed Stack:\n",
            "10\n",
            " \n",
            "20\n",
            " \n",
            "30\n",
            " \n",
            "10\n",
            " \n",
            "50\n",
            " \n",
            "------\n"
          ]
        }
      ]
    },
    {
      "cell_type": "code",
      "source": [],
      "metadata": {
        "id": "lOohtN2I9tk1"
      },
      "execution_count": null,
      "outputs": []
    }
  ]
}