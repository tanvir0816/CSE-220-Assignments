{
 "cells": [
  {
   "cell_type": "code",
   "metadata": {
    "executionInfo": {
     "elapsed": 423,
     "status": "ok",
     "timestamp": 1726944888469,
     "user": {
      "displayName": "Showvik Biswas",
      "userId": "10599982343351370741"
     },
     "user_tz": -360
    },
    "id": "D6vC520OPeTa",
    "ExecuteTime": {
     "end_time": "2024-12-27T14:35:52.811977Z",
     "start_time": "2024-12-27T14:35:52.808603Z"
    }
   },
   "source": [
    "class BTNode:\n",
    "  def __init__(self, elem):\n",
    "    self.elem = elem\n",
    "    self.right = None\n",
    "    self.left = None"
   ],
   "outputs": [],
   "execution_count": 2
  },
  {
   "cell_type": "code",
   "metadata": {
    "id": "UDTKlm4-PfNM",
    "ExecuteTime": {
     "end_time": "2024-12-27T14:35:53.199508Z",
     "start_time": "2024-12-27T14:35:53.196192Z"
    }
   },
   "source": "",
   "outputs": [],
   "execution_count": null
  },
  {
   "cell_type": "code",
   "execution_count": null,
   "metadata": {
    "id": "Rtc22SPzPgzM"
   },
   "outputs": [],
   "source": ""
  },
  {
   "cell_type": "markdown",
   "metadata": {
    "id": "7r3lH3aWPz2d"
   },
   "source": [
    "Task 3"
   ]
  },
  {
   "cell_type": "code",
   "metadata": {
    "id": "5eT12zYb8zm7",
    "ExecuteTime": {
     "end_time": "2024-12-27T14:35:53.425767Z",
     "start_time": "2024-12-27T14:35:53.243553Z"
    }
   },
   "source": [
    "def sum_of_leaves(root, current_sum=0):  \n",
    "    if root is None:\n",
    "        return 0\n",
    "    if root.left is None and root.right is None:  \n",
    "        return root.elem\n",
    "    return sum_of_leaves(root.left, current_sum) + sum_of_leaves(root.right, current_sum)\n",
    "Root=BTNode(30)\n",
    "N2=BTNode(10)\n",
    "N3=BTNode(40)\n",
    "N4=BTNode(3)\n",
    "N5=BTNode(15)\n",
    "N6=BTNode(35)\n",
    "N7=BTNode(55)\n",
    "N8=BTNode(2)\n",
    "N9=BTNode(36)\n",
    "Root.left=N2\n",
    "Root.right=N3\n",
    "N2.left=N4\n",
    "N2.right=N5\n",
    "N3.left=N6\n",
    "N3.right=N7\n",
    "N4.left=N8\n",
    "N6.right=N9\n",
    "#Write by yourself from the given tree\n",
    "print(sum_of_leaves(root, 0)) #output 108"
   ],
   "outputs": [
    {
     "ename": "NameError",
     "evalue": "name 'root' is not defined",
     "output_type": "error",
     "traceback": [
      "\u001B[1;31m---------------------------------------------------------------------------\u001B[0m",
      "\u001B[1;31mNameError\u001B[0m                                 Traceback (most recent call last)",
      "Cell \u001B[1;32mIn[4], line 25\u001B[0m\n\u001B[0;32m     23\u001B[0m N6\u001B[38;5;241m.\u001B[39mright\u001B[38;5;241m=\u001B[39mN9\n\u001B[0;32m     24\u001B[0m \u001B[38;5;66;03m#Write by yourself from the given tree\u001B[39;00m\n\u001B[1;32m---> 25\u001B[0m \u001B[38;5;28mprint\u001B[39m(sum_of_leaves(\u001B[43mroot\u001B[49m, \u001B[38;5;241m0\u001B[39m)) \u001B[38;5;66;03m#output 108\u001B[39;00m\n",
      "\u001B[1;31mNameError\u001B[0m: name 'root' is not defined"
     ]
    }
   ],
   "execution_count": 4
  },
  {
   "metadata": {},
   "cell_type": "code",
   "outputs": [],
   "execution_count": null,
   "source": ""
  }
 ],
 "metadata": {
  "colab": {
   "provenance": [
    {
     "file_id": "1fz-8XVRUO217Jk0i6byqO6CT1k4vtN0y",
     "timestamp": 1701548920850
    }
   ]
  },
  "kernelspec": {
   "display_name": "Python 3 (ipykernel)",
   "name": "python3",
   "language": "python"
  },
  "language_info": {
   "name": "python"
  }
 },
 "nbformat": 4,
 "nbformat_minor": 0
}
