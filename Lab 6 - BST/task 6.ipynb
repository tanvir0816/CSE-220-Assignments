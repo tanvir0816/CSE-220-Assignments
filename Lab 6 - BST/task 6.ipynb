{
  "cells": [
    {
      "cell_type": "code",
      "execution_count": 2,
      "metadata": {
        "id": "D6vC520OPeTa"
      },
      "outputs": [],
      "source": [
        "class BTNode:\n",
        "  def __init__(self, elem):\n",
        "    self.elem = elem\n",
        "    self.right = None\n",
        "    self.left = None"
      ]
    },
    {
      "cell_type": "code",
      "execution_count": 3,
      "metadata": {
        "id": "UDTKlm4-PfNM"
      },
      "outputs": [],
      "source": [
        "def inorder(root):\n",
        "  if root == None:\n",
        "    return\n",
        "\n",
        "  inorder(root.left)\n",
        "  print(root.elem, end = ' ')\n",
        "  inorder(root.right)"
      ]
    },
    {
      "cell_type": "code",
      "execution_count": 4,
      "metadata": {
        "id": "Rtc22SPzPgzM",
        "colab": {
          "base_uri": "https://localhost:8080/"
        },
        "outputId": "5ba5d972-4b2e-4a8f-d6cc-cfb45f2095d7"
      },
      "outputs": [
        {
          "output_type": "stream",
          "name": "stdout",
          "text": [
            "H D B E A I F J C G k "
          ]
        }
      ],
      "source": [
        "def tree_construction(arr, i = 1):\n",
        "  if i>=len(arr) or arr[i] == None:\n",
        "    return None\n",
        "  p = BTNode(arr[i])\n",
        "  p.left = tree_construction(arr, 2*i)\n",
        "  p.right = tree_construction(arr, 2*i+1)\n",
        "  return p\n",
        "\n",
        "\n",
        "root2 = tree_construction([None, 'A', 'B', 'C', 'D', 'E', 'F', 'G', 'H', None, None, None, 'I', 'J', None, 'k'])\n",
        "inorder(root2)"
      ]
    },
    {
      "cell_type": "markdown",
      "metadata": {
        "id": "S2nNCJNhPqGq"
      },
      "source": [
        "Task 1"
      ]
    },
    {
      "cell_type": "code",
      "execution_count": 22,
      "metadata": {
        "id": "zbBHU3FoPieb",
        "colab": {
          "base_uri": "https://localhost:8080/"
        },
        "outputId": "15e5575b-222e-42d6-a1ac-a0d29d134fc6"
      },
      "outputs": [
        {
          "output_type": "stream",
          "name": "stdout",
          "text": [
            "10\n",
            "15\n",
            "20\n",
            "25\n",
            "10\n"
          ]
        }
      ],
      "source": [
        "def LCA(root, x, y):\n",
        "  #To Do\n",
        "    if root is None:\n",
        "        return None\n",
        "    if (x>root.elem and y<root.elem) or (x<root.elem and y>root.elem):\n",
        "        return root.elem\n",
        "    elif x>root.elem and y>root.elem:\n",
        "        return(LCA(root.right,x,y))\n",
        "    elif x<root.elem and y<root.elem:\n",
        "        return(LCA(root.left,x,y))\n",
        "    else:\n",
        "        return root.elem\n",
        "#DRIVER CODE\n",
        "Root=BTNode(15)\n",
        "N2=BTNode(10)\n",
        "N3=BTNode(25)\n",
        "N4=BTNode(8)\n",
        "N5=BTNode(12)\n",
        "N6=BTNode(20)\n",
        "N7=BTNode(30)\n",
        "N8=BTNode(6)\n",
        "N9=BTNode(9)\n",
        "N10=BTNode(18)\n",
        "N11=BTNode(22)\n",
        "#Write by yourself from the given tree (Create parent node and its corresponding left and right children nodes)\n",
        "Root.left=N2\n",
        "Root.right=N3\n",
        "N2.left=N4\n",
        "N2.right=N5\n",
        "N4.left=N8\n",
        "N4.right==N9\n",
        "N3.left=N6\n",
        "N3.right=N7\n",
        "N6.left=N10\n",
        "N6.right=N11\n",
        "#check all the sample inputs given\n",
        "print(LCA(Root,6,12)) #output=10\n",
        "print(LCA(Root,20,6)) #output=15\n",
        "print(LCA(Root,18,22)) #output=20\n",
        "print(LCA(Root,20,25)) #output=25\n",
        "print(LCA(Root,10,12)) #output=10\n",
        "#You can take help by seeing the driver code of Lab-6\n"
      ]
    },
    {
      "cell_type": "markdown",
      "metadata": {
        "id": "c-TBf3m0PrtK"
      },
      "source": [
        "Task 2"
      ]
    },
    {
      "cell_type": "code",
      "source": [
        "def find_Path(root, key):\n",
        "  #To Do\n",
        "    path=[]\n",
        "    def find(root,key,path):\n",
        "        if root is None:\n",
        "            return False\n",
        "        path.append(root.elem)\n",
        "        if root.elem==key:\n",
        "            return True\n",
        "        if find(root.left,key,path) or find(root.right,key,path):\n",
        "            return True\n",
        "        else:\n",
        "            path.pop()\n",
        "            return False\n",
        "\n",
        "    if find(root,key,path):\n",
        "        return path\n",
        "    else:\n",
        "        return \"No path found\"\n",
        "\n",
        "\n",
        "\n",
        "#DRIVER CODE\n",
        "root=BTNode(30)\n",
        "N2=BTNode(10)\n",
        "N3=BTNode(40)\n",
        "N4=BTNode(3)\n",
        "N5=BTNode(15)\n",
        "N6=BTNode(35)\n",
        "N7=BTNode(55)\n",
        "root.left=N2\n",
        "root.right=N3\n",
        "N2.left=N4\n",
        "N2.right=N5\n",
        "N3.left=N5\n",
        "N3.right=N6\n",
        "#Write by yourself from the given tree\n",
        "print(find_Path(root,15))\n",
        "#This should print [30,10,15]\n",
        "\n",
        "print(find_Path(root,50))\n",
        "#This should print No Path Found"
      ],
      "metadata": {
        "id": "i6l-v7k1eE9A",
        "colab": {
          "base_uri": "https://localhost:8080/"
        },
        "outputId": "6ad38b5e-007d-4ca6-9ff8-4aae885fe083"
      },
      "execution_count": 30,
      "outputs": [
        {
          "output_type": "stream",
          "name": "stdout",
          "text": [
            "[30, 10, 15]\n",
            "No path found\n"
          ]
        }
      ]
    },
    {
      "cell_type": "markdown",
      "metadata": {
        "id": "7r3lH3aWPz2d"
      },
      "source": [
        "Task 3"
      ]
    },
    {
      "cell_type": "code",
      "source": [
        "def sum_of_leaves(root, sum):\n",
        "  #To Do\n",
        "    x=0\n",
        "    if root is None:\n",
        "        return 0\n",
        "    if root.right==None and root.left==None:\n",
        "        x=x+root.elem\n",
        "        return root.elem\n",
        "    return sum_of_leaves(root.right,x)+sum_of_leaves(root.left,x)\n",
        "#DRIVER CODE\n",
        "root=BTNode(30)\n",
        "N2=BTNode(10)\n",
        "N3=BTNode(40)\n",
        "N4=BTNode(3)\n",
        "N5=BTNode(15)\n",
        "N6=BTNode(35)\n",
        "N7=BTNode(55)\n",
        "N8=BTNode(2)\n",
        "N9=BTNode(36)\n",
        "root.left=N2\n",
        "root.right=N3\n",
        "N2.left=N4\n",
        "N2.right=N5\n",
        "N3.left=N6\n",
        "N3.right=N7\n",
        "N4.left=N8\n",
        "N6.right=N9\n",
        "#Write by yourself from the given tree\n",
        "\n",
        "print(sum_of_leaves(root, 0)) #output 108"
      ],
      "metadata": {
        "id": "5eT12zYb8zm7",
        "colab": {
          "base_uri": "https://localhost:8080/"
        },
        "outputId": "ad98b562-f206-4edd-ec56-085fb0ee6f9e"
      },
      "execution_count": 73,
      "outputs": [
        {
          "output_type": "stream",
          "name": "stdout",
          "text": [
            "108\n"
          ]
        }
      ]
    },
    {
      "cell_type": "markdown",
      "metadata": {
        "id": "5KeA-BoC3uOo"
      },
      "source": [
        "Task 4"
      ]
    },
    {
      "cell_type": "code",
      "execution_count": 81,
      "metadata": {
        "id": "zFwP64v4Pu6d",
        "colab": {
          "base_uri": "https://localhost:8080/"
        },
        "outputId": "19b1be3f-7891-4c03-d464-47edf2626744"
      },
      "outputs": [
        {
          "output_type": "stream",
          "name": "stdout",
          "text": [
            "Given Tree Inorder Traversal:  4 8 10 12 14 20 22 \n",
            "Inorder predecessor of node 20: 14\n"
          ]
        }
      ],
      "source": [
        "def inorder_predecessor(root, x):\n",
        "  #To Do\n",
        "    if root is None:\n",
        "        return None\n",
        "    if x.left is not None:\n",
        "        cur=x.left\n",
        "        while cur.right is not None:\n",
        "            cur=cur.right\n",
        "        return cur\n",
        "#DRIVER CODE\n",
        "root = BTNode(20)\n",
        "n1 = BTNode(8)\n",
        "n2 = BTNode(22)\n",
        "n3 = BTNode(4)\n",
        "n4 = BTNode(12)\n",
        "n5 = BTNode(10)\n",
        "n6 = BTNode(14)\n",
        "\n",
        "root.left = n1\n",
        "root.right = n2\n",
        "\n",
        "n1.left = n3\n",
        "n1.right = n4\n",
        "\n",
        "n4.left = n5\n",
        "n4.right = n6\n",
        "\n",
        "print('Given Tree Inorder Traversal: ', end = ' ')\n",
        "inorder(root) #Given Tree Inorder Traversal:  4 8 10 12 14 20 22\n",
        "print()\n",
        "\n",
        "x = root\n",
        "print(f'Inorder predecessor of node {x.elem}: {inorder_predecessor(root, x).elem}') #Inorder predecessor of node 20: 14"
      ]
    }
  ],
  "metadata": {
    "colab": {
      "provenance": []
    },
    "kernelspec": {
      "display_name": "Python 3",
      "name": "python3"
    },
    "language_info": {
      "name": "python"
    }
  },
  "nbformat": 4,
  "nbformat_minor": 0
}